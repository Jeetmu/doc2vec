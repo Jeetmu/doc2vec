{
 "cells": [
  {
   "cell_type": "code",
   "execution_count": 2,
   "id": "06b319a6-cd82-42d1-90e6-9834185946f8",
   "metadata": {},
   "outputs": [
    {
     "data": {
      "text/html": [
       "<div>\n",
       "<style scoped>\n",
       "    .dataframe tbody tr th:only-of-type {\n",
       "        vertical-align: middle;\n",
       "    }\n",
       "\n",
       "    .dataframe tbody tr th {\n",
       "        vertical-align: top;\n",
       "    }\n",
       "\n",
       "    .dataframe thead th {\n",
       "        text-align: right;\n",
       "    }\n",
       "</style>\n",
       "<table border=\"1\" class=\"dataframe\">\n",
       "  <thead>\n",
       "    <tr style=\"text-align: right;\">\n",
       "      <th></th>\n",
       "      <th>label</th>\n",
       "      <th>text</th>\n",
       "      <th>text_clean</th>\n",
       "    </tr>\n",
       "  </thead>\n",
       "  <tbody>\n",
       "    <tr>\n",
       "      <th>0</th>\n",
       "      <td>ham</td>\n",
       "      <td>Go until jurong point, crazy.. Available only in bugis n great world la e buffet... Cine there g...</td>\n",
       "      <td>[go, until, jurong, point, crazy, available, only, in, bugis, great, world, la, buffet, cine, th...</td>\n",
       "    </tr>\n",
       "    <tr>\n",
       "      <th>1</th>\n",
       "      <td>ham</td>\n",
       "      <td>Ok lar... Joking wif u oni...</td>\n",
       "      <td>[ok, lar, joking, wif, oni]</td>\n",
       "    </tr>\n",
       "    <tr>\n",
       "      <th>2</th>\n",
       "      <td>spam</td>\n",
       "      <td>Free entry in 2 a wkly comp to win FA Cup final tkts 21st May 2005. Text FA to 87121 to receive ...</td>\n",
       "      <td>[free, entry, in, wkly, comp, to, win, fa, cup, final, tkts, st, may, text, fa, to, to, receive,...</td>\n",
       "    </tr>\n",
       "    <tr>\n",
       "      <th>3</th>\n",
       "      <td>ham</td>\n",
       "      <td>U dun say so early hor... U c already then say...</td>\n",
       "      <td>[dun, say, so, early, hor, already, then, say]</td>\n",
       "    </tr>\n",
       "    <tr>\n",
       "      <th>4</th>\n",
       "      <td>ham</td>\n",
       "      <td>Nah I don't think he goes to usf, he lives around here though</td>\n",
       "      <td>[nah, don, think, he, goes, to, usf, he, lives, around, here, though]</td>\n",
       "    </tr>\n",
       "  </tbody>\n",
       "</table>\n",
       "</div>"
      ],
      "text/plain": [
       "  label  \\\n",
       "0   ham   \n",
       "1   ham   \n",
       "2  spam   \n",
       "3   ham   \n",
       "4   ham   \n",
       "\n",
       "                                                                                                  text  \\\n",
       "0  Go until jurong point, crazy.. Available only in bugis n great world la e buffet... Cine there g...   \n",
       "1                                                                        Ok lar... Joking wif u oni...   \n",
       "2  Free entry in 2 a wkly comp to win FA Cup final tkts 21st May 2005. Text FA to 87121 to receive ...   \n",
       "3                                                    U dun say so early hor... U c already then say...   \n",
       "4                                        Nah I don't think he goes to usf, he lives around here though   \n",
       "\n",
       "                                                                                            text_clean  \n",
       "0  [go, until, jurong, point, crazy, available, only, in, bugis, great, world, la, buffet, cine, th...  \n",
       "1                                                                          [ok, lar, joking, wif, oni]  \n",
       "2  [free, entry, in, wkly, comp, to, win, fa, cup, final, tkts, st, may, text, fa, to, to, receive,...  \n",
       "3                                                       [dun, say, so, early, hor, already, then, say]  \n",
       "4                                [nah, don, think, he, goes, to, usf, he, lives, around, here, though]  "
      ]
     },
     "execution_count": 2,
     "metadata": {},
     "output_type": "execute_result"
    }
   ],
   "source": [
    "import gensim\n",
    "import pandas as pd\n",
    "from sklearn.model_selection import train_test_split\n",
    "\n",
    "pd.set_option('display.max_colwidth', 100)\n",
    "\n",
    "messages = pd.read_csv(\"data/spam.csv\", encoding='latin-1')\n",
    "messages = messages.drop(labels = [\"Unnamed: 2\", \"Unnamed: 3\", \"Unnamed: 4\"], axis=1)\n",
    "messages.columns = ['label', 'text']\n",
    "messages['text_clean'] = messages['text'].apply(lambda x: gensim.utils.simple_preprocess(x))\n",
    "messages.head()"
   ]
  },
  {
   "cell_type": "code",
   "execution_count": 3,
   "id": "0ca2017b-3b53-4847-ad34-82db09ece336",
   "metadata": {},
   "outputs": [],
   "source": [
    "X_train, X_test, y_train, y_test = train_test_split(messages['text_clean'], messages['label'], test_size=0.2, random_state=42)"
   ]
  },
  {
   "cell_type": "code",
   "execution_count": 6,
   "id": "1e5189bf-df44-45a6-9a09-33a57eb02a73",
   "metadata": {},
   "outputs": [
    {
     "name": "stdout",
     "output_type": "stream",
     "text": [
      "(4457,)\n",
      "(1115,)\n"
     ]
    }
   ],
   "source": [
    "print(X_train.shape)\n",
    "print(X_test.shape)"
   ]
  },
  {
   "cell_type": "code",
   "execution_count": 7,
   "id": "379ebaeb-4284-41ee-bb36-8897b93cf3f9",
   "metadata": {},
   "outputs": [
    {
     "data": {
      "text/plain": [
       "TaggedDocument(words=['no', 'in', 'the', 'same', 'boat', 'still', 'here', 'at', 'my', 'moms', 'check', 'me', 'out', 'on', 'yo', 'half', 'naked'], tags=[0])"
      ]
     },
     "execution_count": 7,
     "metadata": {},
     "output_type": "execute_result"
    }
   ],
   "source": [
    "tagged_docs = [gensim.models.doc2vec.TaggedDocument(v, [i]) for i, v in enumerate(X_train)]\n",
    "tagged_docs[0]"
   ]
  },
  {
   "cell_type": "code",
   "execution_count": 8,
   "id": "4f6fc85c-a875-4ca3-88d1-39549c4d3560",
   "metadata": {},
   "outputs": [],
   "source": [
    "d2v_model = gensim.models.Doc2Vec(tagged_docs, vector_size=100, window=5, min_count=2)"
   ]
  },
  {
   "cell_type": "code",
   "execution_count": 9,
   "id": "392122c8-0d63-4438-b5a8-f0040828a76e",
   "metadata": {},
   "outputs": [
    {
     "data": {
      "text/plain": [
       "array([-0.01642826,  0.0087899 ,  0.00727921,  0.00163909, -0.00260686,\n",
       "       -0.03123031,  0.00052865,  0.05391577, -0.02602936, -0.00615708,\n",
       "       -0.01955118, -0.02150568,  0.0069836 ,  0.0173604 ,  0.00884985,\n",
       "       -0.02627418,  0.00964367, -0.02220846, -0.00315863, -0.03980689,\n",
       "        0.01643363,  0.00845358,  0.01330932, -0.01494466,  0.00075984,\n",
       "       -0.00826531, -0.01473922, -0.00870075, -0.01209086, -0.00403463,\n",
       "        0.02912069,  0.00592557,  0.01747879, -0.00634774, -0.00648373,\n",
       "        0.03498967, -0.00035372, -0.01826677, -0.01749962, -0.03224976,\n",
       "        0.00222359, -0.02247489,  0.00380694, -0.01501684,  0.01033392,\n",
       "       -0.00820219, -0.00511041, -0.01247929,  0.00768868,  0.01953254,\n",
       "        0.00646099, -0.01438479, -0.00085483, -0.00680471, -0.01489087,\n",
       "        0.01936117,  0.01085061,  0.00940092, -0.02120397,  0.00916996,\n",
       "        0.00803589, -0.00912922, -0.00338499, -0.0060307 , -0.03246205,\n",
       "        0.02913532, -0.0007981 ,  0.02153483, -0.0265501 ,  0.03329364,\n",
       "       -0.01214955,  0.0033546 ,  0.0156662 , -0.0013145 ,  0.02269504,\n",
       "        0.01065015, -0.00442481,  0.00028293, -0.01616187,  0.01026936,\n",
       "       -0.01850827, -0.00883986, -0.02606853,  0.03336515, -0.01716324,\n",
       "       -0.00183998,  0.00058904,  0.01585368,  0.0302579 ,  0.02245619,\n",
       "        0.03196964,  0.01083121,  0.00359792,  0.00685393,  0.02759571,\n",
       "        0.02017961,  0.00716226, -0.03181341,  0.02067244, -0.00271969],\n",
       "      dtype=float32)"
      ]
     },
     "execution_count": 9,
     "metadata": {},
     "output_type": "execute_result"
    }
   ],
   "source": [
    "d2v_model.infer_vector(['i', 'am', 'learning', 'NLP'])"
   ]
  },
  {
   "cell_type": "code",
   "execution_count": 11,
   "id": "635b3f38-d2cf-44cb-a7d4-ca461c3a94fa",
   "metadata": {},
   "outputs": [],
   "source": [
    "vectors = [[d2v_model.infer_vector(words)] for words in X_test]"
   ]
  },
  {
   "cell_type": "code",
   "execution_count": 12,
   "id": "938e10a4-a10a-448a-9fa2-885e05838241",
   "metadata": {},
   "outputs": [
    {
     "data": {
      "text/plain": [
       "[array([-0.05151838,  0.01446807,  0.04297442,  0.02152314,  0.01306247,\n",
       "        -0.09142785,  0.00306269,  0.16295826, -0.08739644, -0.02904986,\n",
       "        -0.07639629, -0.10112891, -0.00725739,  0.03282927,  0.0106625 ,\n",
       "        -0.07848337,  0.03185017, -0.07524703,  0.00520316, -0.1505978 ,\n",
       "         0.02326543,  0.04620664,  0.04721679, -0.02116672,  0.00855021,\n",
       "        -0.0153354 , -0.05339457, -0.01738951, -0.04247596, -0.0140232 ,\n",
       "         0.07569564,  0.01535793,  0.05590167, -0.01145789, -0.04396398,\n",
       "         0.08959933,  0.0123566 , -0.08512382, -0.05466197, -0.11431774,\n",
       "        -0.00863689, -0.08400486, -0.00654267, -0.03630346,  0.01660048,\n",
       "        -0.04184675, -0.0219517 , -0.0442448 ,  0.02756467,  0.06765153,\n",
       "         0.02949198, -0.04231436,  0.01468367, -0.0058047 , -0.05899435,\n",
       "         0.04045742,  0.05262645,  0.009686  , -0.04640332,  0.04331235,\n",
       "         0.02419148, -0.02977659,  0.01002352, -0.02989593, -0.10468096,\n",
       "         0.0903938 ,  0.00676139,  0.07438606, -0.08674333,  0.13358003,\n",
       "        -0.01530103,  0.02644852,  0.06469871, -0.00048283,  0.0837549 ,\n",
       "         0.016221  , -0.00747808, -0.00552141, -0.03610218,  0.013561  ,\n",
       "        -0.07288838, -0.01100705, -0.08114386,  0.11020609, -0.02909584,\n",
       "        -0.02230204, -0.02026616,  0.04572322,  0.11116267,  0.05960923,\n",
       "         0.1197895 ,  0.02581029,  0.00393712,  0.02270465,  0.10503599,\n",
       "         0.07854258,  0.041524  , -0.10850659,  0.05630734, -0.0172974 ],\n",
       "       dtype=float32)]"
      ]
     },
     "execution_count": 12,
     "metadata": {},
     "output_type": "execute_result"
    }
   ],
   "source": [
    "vectors[0]"
   ]
  },
  {
   "cell_type": "code",
   "execution_count": null,
   "id": "e2500aa0-a3f6-4495-9b00-6bfd9fecf0c7",
   "metadata": {},
   "outputs": [],
   "source": []
  }
 ],
 "metadata": {
  "kernelspec": {
   "display_name": "Python 3",
   "language": "python",
   "name": "python3"
  },
  "language_info": {
   "codemirror_mode": {
    "name": "ipython",
    "version": 3
   },
   "file_extension": ".py",
   "mimetype": "text/x-python",
   "name": "python",
   "nbconvert_exporter": "python",
   "pygments_lexer": "ipython3",
   "version": "3.8.8"
  }
 },
 "nbformat": 4,
 "nbformat_minor": 5
}
